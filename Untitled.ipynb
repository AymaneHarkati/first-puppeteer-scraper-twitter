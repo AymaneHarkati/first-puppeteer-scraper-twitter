{
 "cells": [
  {
   "cell_type": "code",
   "execution_count": 3,
   "id": "d89fa27d",
   "metadata": {},
   "outputs": [],
   "source": [
    "import pandas as pd"
   ]
  },
  {
   "cell_type": "code",
   "execution_count": 4,
   "id": "a784d5f3",
   "metadata": {},
   "outputs": [
    {
     "name": "stderr",
     "output_type": "stream",
     "text": [
      "/var/folders/rs/hrmdwl7s0x91vr68k48hckvr0000gn/T/ipykernel_49139/3979826597.py:1: DtypeWarning: Columns (12,13,14,15,16,17,18,19,20,21,22,23,24,25,26,27,28,29) have mixed types. Specify dtype option on import or set low_memory=False.\n",
      "  df = pd.read_csv(\"stanley.csv\")\n"
     ]
    }
   ],
   "source": [
    "df = pd.read_csv(\"stanley.csv\")"
   ]
  },
  {
   "cell_type": "code",
   "execution_count": 5,
   "id": "5efceaf5",
   "metadata": {},
   "outputs": [],
   "source": [
    "df = df.iloc[:,:4]"
   ]
  },
  {
   "cell_type": "code",
   "execution_count": 6,
   "id": "56003f1e",
   "metadata": {},
   "outputs": [
    {
     "data": {
      "text/html": [
       "<div>\n",
       "<style scoped>\n",
       "    .dataframe tbody tr th:only-of-type {\n",
       "        vertical-align: middle;\n",
       "    }\n",
       "\n",
       "    .dataframe tbody tr th {\n",
       "        vertical-align: top;\n",
       "    }\n",
       "\n",
       "    .dataframe thead th {\n",
       "        text-align: right;\n",
       "    }\n",
       "</style>\n",
       "<table border=\"1\" class=\"dataframe\">\n",
       "  <thead>\n",
       "    <tr style=\"text-align: right;\">\n",
       "      <th></th>\n",
       "      <th>username</th>\n",
       "      <th>handle</th>\n",
       "      <th>postDate</th>\n",
       "      <th>tweetText</th>\n",
       "    </tr>\n",
       "  </thead>\n",
       "  <tbody>\n",
       "    <tr>\n",
       "      <th>394281</th>\n",
       "      <td>All Capital Funding</td>\n",
       "      <td>NaN</td>\n",
       "      <td>2014-04-29T20:02:18.000Z</td>\n",
       "      <td>Morgan Stanley</td>\n",
       "    </tr>\n",
       "    <tr>\n",
       "      <th>394282</th>\n",
       "      <td>Margit Feher</td>\n",
       "      <td>NaN</td>\n",
       "      <td>2014-04-29T20:01:35.000Z</td>\n",
       "      <td>#Hungary central bank has entered wait-and-see...</td>\n",
       "    </tr>\n",
       "    <tr>\n",
       "      <th>394283</th>\n",
       "      <td>FINISINVENTIS</td>\n",
       "      <td>NaN</td>\n",
       "      <td>2014-04-29T19:53:35.000Z</td>\n",
       "      <td>Morgan Stanley plans retail banking push US in...</td>\n",
       "    </tr>\n",
       "    <tr>\n",
       "      <th>394284</th>\n",
       "      <td>hoos.crypto</td>\n",
       "      <td>NaN</td>\n",
       "      <td>2014-04-29T18:06:27.000Z</td>\n",
       "      <td>Morgan Stanley: gold price won't see $1</td>\n",
       "    </tr>\n",
       "    <tr>\n",
       "      <th>394285</th>\n",
       "      <td>Natasha Cann</td>\n",
       "      <td>NaN</td>\n",
       "      <td>2014-04-29T17:59:53.000Z</td>\n",
       "      <td>#NatashaCann Morgan Stanley: gold price won't ...</td>\n",
       "    </tr>\n",
       "  </tbody>\n",
       "</table>\n",
       "</div>"
      ],
      "text/plain": [
       "                   username handle                  postDate  \\\n",
       "394281  All Capital Funding    NaN  2014-04-29T20:02:18.000Z   \n",
       "394282         Margit Feher    NaN  2014-04-29T20:01:35.000Z   \n",
       "394283        FINISINVENTIS    NaN  2014-04-29T19:53:35.000Z   \n",
       "394284          hoos.crypto    NaN  2014-04-29T18:06:27.000Z   \n",
       "394285         Natasha Cann    NaN  2014-04-29T17:59:53.000Z   \n",
       "\n",
       "                                                tweetText  \n",
       "394281                                     Morgan Stanley  \n",
       "394282  #Hungary central bank has entered wait-and-see...  \n",
       "394283  Morgan Stanley plans retail banking push US in...  \n",
       "394284            Morgan Stanley: gold price won't see $1  \n",
       "394285  #NatashaCann Morgan Stanley: gold price won't ...  "
      ]
     },
     "execution_count": 6,
     "metadata": {},
     "output_type": "execute_result"
    }
   ],
   "source": [
    "df.tail()"
   ]
  },
  {
   "cell_type": "code",
   "execution_count": 15,
   "id": "998c4ff2",
   "metadata": {},
   "outputs": [],
   "source": [
    "df = df[df.postDate != \"postDate\"]"
   ]
  },
  {
   "cell_type": "code",
   "execution_count": 18,
   "id": "49ad95f4",
   "metadata": {},
   "outputs": [
    {
     "data": {
      "text/html": [
       "<div>\n",
       "<style scoped>\n",
       "    .dataframe tbody tr th:only-of-type {\n",
       "        vertical-align: middle;\n",
       "    }\n",
       "\n",
       "    .dataframe tbody tr th {\n",
       "        vertical-align: top;\n",
       "    }\n",
       "\n",
       "    .dataframe thead th {\n",
       "        text-align: right;\n",
       "    }\n",
       "</style>\n",
       "<table border=\"1\" class=\"dataframe\">\n",
       "  <thead>\n",
       "    <tr style=\"text-align: right;\">\n",
       "      <th></th>\n",
       "      <th>username</th>\n",
       "      <th>handle</th>\n",
       "      <th>postDate</th>\n",
       "      <th>tweetText</th>\n",
       "    </tr>\n",
       "  </thead>\n",
       "  <tbody>\n",
       "    <tr>\n",
       "      <th>0</th>\n",
       "      <td>ELITETRADER.RU</td>\n",
       "      <td>NaN</td>\n",
       "      <td>2019-12-30T23:47:02.000Z</td>\n",
       "      <td>Morgan Stanley преодолел психологическое сопро...</td>\n",
       "    </tr>\n",
       "    <tr>\n",
       "      <th>1</th>\n",
       "      <td>Jorge Gálvez Gajardo</td>\n",
       "      <td>/articulo/cual-es-el-la-fintech-colombiana-en-...</td>\n",
       "      <td>2019-12-30T23:43:14.000Z</td>\n",
       "      <td>La fintech colombiana en la que invertirá Morg...</td>\n",
       "    </tr>\n",
       "    <tr>\n",
       "      <th>2</th>\n",
       "      <td>Suzanne Ritchey</td>\n",
       "      <td>NaN</td>\n",
       "      <td>2019-12-30T23:37:11.000Z</td>\n",
       "      <td>Good time to invest</td>\n",
       "    </tr>\n",
       "    <tr>\n",
       "      <th>3</th>\n",
       "      <td>evergreen</td>\n",
       "      <td>NaN</td>\n",
       "      <td>2019-12-30T23:32:44.000Z</td>\n",
       "      <td>The article is about Yang's failed startup Ven...</td>\n",
       "    </tr>\n",
       "    <tr>\n",
       "      <th>4</th>\n",
       "      <td>Rauschenbusch Metro Ministries</td>\n",
       "      <td>NaN</td>\n",
       "      <td>2019-12-30T23:15:09.000Z</td>\n",
       "      <td>Another fun holiday memory - The Page Turners ...</td>\n",
       "    </tr>\n",
       "    <tr>\n",
       "      <th>...</th>\n",
       "      <td>...</td>\n",
       "      <td>...</td>\n",
       "      <td>...</td>\n",
       "      <td>...</td>\n",
       "    </tr>\n",
       "    <tr>\n",
       "      <th>284456</th>\n",
       "      <td>Brent Schneider</td>\n",
       "      <td>NaN</td>\n",
       "      <td>2016-10-26T18:00:24.000Z</td>\n",
       "      <td>Morgan Stanley: Get Used To Low Returns And Bu...</td>\n",
       "    </tr>\n",
       "    <tr>\n",
       "      <th>284457</th>\n",
       "      <td>Brent Schneider</td>\n",
       "      <td>NaN</td>\n",
       "      <td>2016-10-26T18:00:24.000Z</td>\n",
       "      <td>Will Morgan Stanley (NYSE:MS) be growing after...</td>\n",
       "    </tr>\n",
       "    <tr>\n",
       "      <th>284458</th>\n",
       "      <td>Financial GamblR</td>\n",
       "      <td>NaN</td>\n",
       "      <td>2016-10-26T17:59:06.000Z</td>\n",
       "      <td>RT Brexit: There's nothing good about Brexit</td>\n",
       "    </tr>\n",
       "    <tr>\n",
       "      <th>284459</th>\n",
       "      <td>BRYCE WARD</td>\n",
       "      <td>/791337535565889536</td>\n",
       "      <td>2016-10-26T17:56:14.000Z</td>\n",
       "      <td>#toSEARCH RT Brexit: There's nothing good abou...</td>\n",
       "    </tr>\n",
       "    <tr>\n",
       "      <th>284460</th>\n",
       "      <td>e-Placement Scotland</td>\n",
       "      <td>lyst-placement-west-scotland-741.aspx</td>\n",
       "      <td>2016-10-26T17:56:09.000Z</td>\n",
       "      <td>Summer Analyst Placement with Morgan Stanley. ...</td>\n",
       "    </tr>\n",
       "  </tbody>\n",
       "</table>\n",
       "<p>273471 rows × 4 columns</p>\n",
       "</div>"
      ],
      "text/plain": [
       "                              username  \\\n",
       "0                       ELITETRADER.RU   \n",
       "1                 Jorge Gálvez Gajardo   \n",
       "2                      Suzanne Ritchey   \n",
       "3                            evergreen   \n",
       "4       Rauschenbusch Metro Ministries   \n",
       "...                                ...   \n",
       "284456                 Brent Schneider   \n",
       "284457                 Brent Schneider   \n",
       "284458                Financial GamblR   \n",
       "284459                      BRYCE WARD   \n",
       "284460            e-Placement Scotland   \n",
       "\n",
       "                                                   handle  \\\n",
       "0                                                     NaN   \n",
       "1       /articulo/cual-es-el-la-fintech-colombiana-en-...   \n",
       "2                                                     NaN   \n",
       "3                                                     NaN   \n",
       "4                                                     NaN   \n",
       "...                                                   ...   \n",
       "284456                                                NaN   \n",
       "284457                                                NaN   \n",
       "284458                                                NaN   \n",
       "284459                                /791337535565889536   \n",
       "284460              lyst-placement-west-scotland-741.aspx   \n",
       "\n",
       "                        postDate  \\\n",
       "0       2019-12-30T23:47:02.000Z   \n",
       "1       2019-12-30T23:43:14.000Z   \n",
       "2       2019-12-30T23:37:11.000Z   \n",
       "3       2019-12-30T23:32:44.000Z   \n",
       "4       2019-12-30T23:15:09.000Z   \n",
       "...                          ...   \n",
       "284456  2016-10-26T18:00:24.000Z   \n",
       "284457  2016-10-26T18:00:24.000Z   \n",
       "284458  2016-10-26T17:59:06.000Z   \n",
       "284459  2016-10-26T17:56:14.000Z   \n",
       "284460  2016-10-26T17:56:09.000Z   \n",
       "\n",
       "                                                tweetText  \n",
       "0       Morgan Stanley преодолел психологическое сопро...  \n",
       "1       La fintech colombiana en la que invertirá Morg...  \n",
       "2                                     Good time to invest  \n",
       "3       The article is about Yang's failed startup Ven...  \n",
       "4       Another fun holiday memory - The Page Turners ...  \n",
       "...                                                   ...  \n",
       "284456  Morgan Stanley: Get Used To Low Returns And Bu...  \n",
       "284457  Will Morgan Stanley (NYSE:MS) be growing after...  \n",
       "284458       RT Brexit: There's nothing good about Brexit  \n",
       "284459  #toSEARCH RT Brexit: There's nothing good abou...  \n",
       "284460  Summer Analyst Placement with Morgan Stanley. ...  \n",
       "\n",
       "[273471 rows x 4 columns]"
      ]
     },
     "execution_count": 18,
     "metadata": {},
     "output_type": "execute_result"
    }
   ],
   "source": [
    "df.dropna(subset=['postDate'])"
   ]
  },
  {
   "cell_type": "code",
   "execution_count": 9,
   "id": "d6947a92",
   "metadata": {},
   "outputs": [],
   "source": [
    "df = df.dropna(subset=[\"postDate\"])"
   ]
  },
  {
   "cell_type": "code",
   "execution_count": 11,
   "id": "87eb62c0",
   "metadata": {},
   "outputs": [
    {
     "data": {
      "text/plain": [
       "(1485, 4)"
      ]
     },
     "execution_count": 11,
     "metadata": {},
     "output_type": "execute_result"
    }
   ],
   "source": [
    "df.shape"
   ]
  },
  {
   "attachments": {},
   "cell_type": "markdown",
   "id": "8558481c",
   "metadata": {},
   "source": []
  }
 ],
 "metadata": {
  "kernelspec": {
   "display_name": "Python 3 (ipykernel)",
   "language": "python",
   "name": "python3"
  },
  "language_info": {
   "codemirror_mode": {
    "name": "ipython",
    "version": 3
   },
   "file_extension": ".py",
   "mimetype": "text/x-python",
   "name": "python",
   "nbconvert_exporter": "python",
   "pygments_lexer": "ipython3",
   "version": "3.10.9"
  }
 },
 "nbformat": 4,
 "nbformat_minor": 5
}
