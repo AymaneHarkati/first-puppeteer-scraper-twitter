{
 "cells": [
  {
   "cell_type": "code",
   "execution_count": 61,
   "id": "d89fa27d",
   "metadata": {},
   "outputs": [],
   "source": [
    "import pandas as pd\n"
   ]
  },
  {
   "cell_type": "code",
   "execution_count": 72,
   "id": "a784d5f3",
   "metadata": {},
   "outputs": [],
   "source": [
    "df = pd.read_json(\"JKS_tweets_final.json\")"
   ]
  },
  {
   "cell_type": "code",
   "execution_count": 74,
   "id": "d9a00606",
   "metadata": {},
   "outputs": [
    {
     "data": {
      "text/plain": [
       "(9745, 2)"
      ]
     },
     "execution_count": 74,
     "metadata": {},
     "output_type": "execute_result"
    }
   ],
   "source": [
    "df.shape"
   ]
  },
  {
   "cell_type": "code",
   "execution_count": 57,
   "id": "0e367acc",
   "metadata": {},
   "outputs": [
    {
     "name": "stderr",
     "output_type": "stream",
     "text": [
      "/var/folders/rs/hrmdwl7s0x91vr68k48hckvr0000gn/T/ipykernel_3328/409766540.py:1: FutureWarning: In a future version of pandas all arguments of StringMethods.split except for the argument 'pat' will be keyword-only.\n",
      "  df[['date', 'text']] = df['tweets'].str.split(',', 1).apply(pd.Series)\n"
     ]
    },
    {
     "ename": "ValueError",
     "evalue": "Columns must be same length as key",
     "output_type": "error",
     "traceback": [
      "\u001b[0;31m---------------------------------------------------------------------------\u001b[0m",
      "\u001b[0;31mValueError\u001b[0m                                Traceback (most recent call last)",
      "Cell \u001b[0;32mIn[57], line 1\u001b[0m\n\u001b[0;32m----> 1\u001b[0m df[[\u001b[39m'\u001b[39;49m\u001b[39mdate\u001b[39;49m\u001b[39m'\u001b[39;49m, \u001b[39m'\u001b[39;49m\u001b[39mtext\u001b[39;49m\u001b[39m'\u001b[39;49m]] \u001b[39m=\u001b[39m df[\u001b[39m'\u001b[39m\u001b[39mtweets\u001b[39m\u001b[39m'\u001b[39m]\u001b[39m.\u001b[39mstr\u001b[39m.\u001b[39msplit(\u001b[39m'\u001b[39m\u001b[39m,\u001b[39m\u001b[39m'\u001b[39m, \u001b[39m1\u001b[39m)\u001b[39m.\u001b[39mapply(pd\u001b[39m.\u001b[39mSeries)\n\u001b[1;32m      3\u001b[0m \u001b[39m# Remove any leading/trailing whitespace from the 'date' and 'text' columns\u001b[39;00m\n\u001b[1;32m      4\u001b[0m df[\u001b[39m'\u001b[39m\u001b[39mdate\u001b[39m\u001b[39m'\u001b[39m] \u001b[39m=\u001b[39m df[\u001b[39m'\u001b[39m\u001b[39mdate\u001b[39m\u001b[39m'\u001b[39m]\u001b[39m.\u001b[39mstr\u001b[39m.\u001b[39mstrip()\n",
      "File \u001b[0;32m/opt/homebrew/Caskroom/miniforge/base/envs/tensorflow-metal/lib/python3.10/site-packages/pandas/core/frame.py:3966\u001b[0m, in \u001b[0;36mDataFrame.__setitem__\u001b[0;34m(self, key, value)\u001b[0m\n\u001b[1;32m   3964\u001b[0m     \u001b[39mself\u001b[39m\u001b[39m.\u001b[39m_setitem_frame(key, value)\n\u001b[1;32m   3965\u001b[0m \u001b[39melif\u001b[39;00m \u001b[39misinstance\u001b[39m(key, (Series, np\u001b[39m.\u001b[39mndarray, \u001b[39mlist\u001b[39m, Index)):\n\u001b[0;32m-> 3966\u001b[0m     \u001b[39mself\u001b[39;49m\u001b[39m.\u001b[39;49m_setitem_array(key, value)\n\u001b[1;32m   3967\u001b[0m \u001b[39melif\u001b[39;00m \u001b[39misinstance\u001b[39m(value, DataFrame):\n\u001b[1;32m   3968\u001b[0m     \u001b[39mself\u001b[39m\u001b[39m.\u001b[39m_set_item_frame_value(key, value)\n",
      "File \u001b[0;32m/opt/homebrew/Caskroom/miniforge/base/envs/tensorflow-metal/lib/python3.10/site-packages/pandas/core/frame.py:4008\u001b[0m, in \u001b[0;36mDataFrame._setitem_array\u001b[0;34m(self, key, value)\u001b[0m\n\u001b[1;32m   4003\u001b[0m \u001b[39melse\u001b[39;00m:\n\u001b[1;32m   4004\u001b[0m     \u001b[39m# Note: unlike self.iloc[:, indexer] = value, this will\u001b[39;00m\n\u001b[1;32m   4005\u001b[0m     \u001b[39m#  never try to overwrite values inplace\u001b[39;00m\n\u001b[1;32m   4007\u001b[0m     \u001b[39mif\u001b[39;00m \u001b[39misinstance\u001b[39m(value, DataFrame):\n\u001b[0;32m-> 4008\u001b[0m         check_key_length(\u001b[39mself\u001b[39;49m\u001b[39m.\u001b[39;49mcolumns, key, value)\n\u001b[1;32m   4009\u001b[0m         \u001b[39mfor\u001b[39;00m k1, k2 \u001b[39min\u001b[39;00m \u001b[39mzip\u001b[39m(key, value\u001b[39m.\u001b[39mcolumns):\n\u001b[1;32m   4010\u001b[0m             \u001b[39mself\u001b[39m[k1] \u001b[39m=\u001b[39m value[k2]\n",
      "File \u001b[0;32m/opt/homebrew/Caskroom/miniforge/base/envs/tensorflow-metal/lib/python3.10/site-packages/pandas/core/indexers/utils.py:401\u001b[0m, in \u001b[0;36mcheck_key_length\u001b[0;34m(columns, key, value)\u001b[0m\n\u001b[1;32m    399\u001b[0m \u001b[39mif\u001b[39;00m columns\u001b[39m.\u001b[39mis_unique:\n\u001b[1;32m    400\u001b[0m     \u001b[39mif\u001b[39;00m \u001b[39mlen\u001b[39m(value\u001b[39m.\u001b[39mcolumns) \u001b[39m!=\u001b[39m \u001b[39mlen\u001b[39m(key):\n\u001b[0;32m--> 401\u001b[0m         \u001b[39mraise\u001b[39;00m \u001b[39mValueError\u001b[39;00m(\u001b[39m\"\u001b[39m\u001b[39mColumns must be same length as key\u001b[39m\u001b[39m\"\u001b[39m)\n\u001b[1;32m    402\u001b[0m \u001b[39melse\u001b[39;00m:\n\u001b[1;32m    403\u001b[0m     \u001b[39m# Missing keys in columns are represented as -1\u001b[39;00m\n\u001b[1;32m    404\u001b[0m     \u001b[39mif\u001b[39;00m \u001b[39mlen\u001b[39m(columns\u001b[39m.\u001b[39mget_indexer_non_unique(key)[\u001b[39m0\u001b[39m]) \u001b[39m!=\u001b[39m \u001b[39mlen\u001b[39m(value\u001b[39m.\u001b[39mcolumns):\n",
      "\u001b[0;31mValueError\u001b[0m: Columns must be same length as key"
     ]
    }
   ],
   "source": [
    "df[['date', 'text']] = df['tweets'].str.split(',', 1).apply(pd.Series)\n",
    "\n",
    "# Remove any leading/trailing whitespace from the 'date' and 'text' columns\n",
    "df['date'] = df['date'].str.strip()\n",
    "df['text'] = df['text'].str.strip()"
   ]
  },
  {
   "cell_type": "code",
   "execution_count": 43,
   "id": "699b27a1",
   "metadata": {},
   "outputs": [
    {
     "ename": "ValueError",
     "evalue": "DataFrame constructor not properly called!",
     "output_type": "error",
     "traceback": [
      "\u001b[0;31m---------------------------------------------------------------------------\u001b[0m",
      "\u001b[0;31mValueError\u001b[0m                                Traceback (most recent call last)",
      "Cell \u001b[0;32mIn[43], line 1\u001b[0m\n\u001b[0;32m----> 1\u001b[0m df \u001b[39m=\u001b[39m pd\u001b[39m.\u001b[39;49mDataFrame(file_content, columns\u001b[39m=\u001b[39;49m[\u001b[39m'\u001b[39;49m\u001b[39mdatetime\u001b[39;49m\u001b[39m'\u001b[39;49m, \u001b[39m'\u001b[39;49m\u001b[39mmessage\u001b[39;49m\u001b[39m'\u001b[39;49m])\n",
      "File \u001b[0;32m/opt/homebrew/Caskroom/miniforge/base/envs/tensorflow-metal/lib/python3.10/site-packages/pandas/core/frame.py:780\u001b[0m, in \u001b[0;36mDataFrame.__init__\u001b[0;34m(self, data, index, columns, dtype, copy)\u001b[0m\n\u001b[1;32m    777\u001b[0m \u001b[39m# For data is scalar\u001b[39;00m\n\u001b[1;32m    778\u001b[0m \u001b[39melse\u001b[39;00m:\n\u001b[1;32m    779\u001b[0m     \u001b[39mif\u001b[39;00m index \u001b[39mis\u001b[39;00m \u001b[39mNone\u001b[39;00m \u001b[39mor\u001b[39;00m columns \u001b[39mis\u001b[39;00m \u001b[39mNone\u001b[39;00m:\n\u001b[0;32m--> 780\u001b[0m         \u001b[39mraise\u001b[39;00m \u001b[39mValueError\u001b[39;00m(\u001b[39m\"\u001b[39m\u001b[39mDataFrame constructor not properly called!\u001b[39m\u001b[39m\"\u001b[39m)\n\u001b[1;32m    782\u001b[0m     index \u001b[39m=\u001b[39m ensure_index(index)\n\u001b[1;32m    783\u001b[0m     columns \u001b[39m=\u001b[39m ensure_index(columns)\n",
      "\u001b[0;31mValueError\u001b[0m: DataFrame constructor not properly called!"
     ]
    }
   ],
   "source": [
    "df = pd.DataFrame(file_content, columns=['datetime', 'message'])\n"
   ]
  },
  {
   "cell_type": "code",
   "execution_count": 26,
   "id": "d58ca23a",
   "metadata": {},
   "outputs": [],
   "source": [
    "df1 = pd.read_csv(\"JKS_tweets.csv\", on_bad_lines=\"skip\",sep=\",\")"
   ]
  },
  {
   "cell_type": "code",
   "execution_count": 27,
   "id": "206fab7c",
   "metadata": {},
   "outputs": [
    {
     "data": {
      "text/plain": [
       "(2542, 2)"
      ]
     },
     "execution_count": 27,
     "metadata": {},
     "output_type": "execute_result"
    }
   ],
   "source": [
    "df1.shape "
   ]
  },
  {
   "cell_type": "code",
   "execution_count": 28,
   "id": "5efceaf5",
   "metadata": {},
   "outputs": [
    {
     "data": {
      "text/plain": [
       "(9731, 2)"
      ]
     },
     "execution_count": 28,
     "metadata": {},
     "output_type": "execute_result"
    }
   ],
   "source": [
    "df.shape\n"
   ]
  },
  {
   "cell_type": "code",
   "execution_count": 29,
   "id": "998c4ff2",
   "metadata": {},
   "outputs": [],
   "source": [
    "df = df[df.postDate != \"postDate\"]"
   ]
  },
  {
   "cell_type": "code",
   "execution_count": 30,
   "id": "65f8dd74",
   "metadata": {},
   "outputs": [],
   "source": [
    "df = df.iloc[:,:2]"
   ]
  },
  {
   "cell_type": "code",
   "execution_count": 31,
   "id": "49ad95f4",
   "metadata": {},
   "outputs": [
    {
     "data": {
      "text/html": [
       "<div>\n",
       "<style scoped>\n",
       "    .dataframe tbody tr th:only-of-type {\n",
       "        vertical-align: middle;\n",
       "    }\n",
       "\n",
       "    .dataframe tbody tr th {\n",
       "        vertical-align: top;\n",
       "    }\n",
       "\n",
       "    .dataframe thead th {\n",
       "        text-align: right;\n",
       "    }\n",
       "</style>\n",
       "<table border=\"1\" class=\"dataframe\">\n",
       "  <thead>\n",
       "    <tr style=\"text-align: right;\">\n",
       "      <th></th>\n",
       "      <th>postDate</th>\n",
       "      <th>tweetText</th>\n",
       "    </tr>\n",
       "  </thead>\n",
       "  <tbody>\n",
       "    <tr>\n",
       "      <th>0</th>\n",
       "      <td>2019-12-31T16:18:19.000Z</td>\n",
       "      <td>PM's getting back to \"even weight</td>\n",
       "    </tr>\n",
       "    <tr>\n",
       "      <th>1</th>\n",
       "      <td>2019-11-29T14:30:03.000Z</td>\n",
       "      <td>Fly Intel: Pre-market Movers $TECD $APO $BRK.A...</td>\n",
       "    </tr>\n",
       "    <tr>\n",
       "      <th>2</th>\n",
       "      <td>2019-11-29T14:09:18.000Z</td>\n",
       "      <td>Watchlist 11-29-19: pathetic list to say the l...</td>\n",
       "    </tr>\n",
       "    <tr>\n",
       "      <th>3</th>\n",
       "      <td>2019-11-29T13:05:23.000Z</td>\n",
       "      <td>$JKS JinkoSolar Supplies 300MW of High-Efficie...</td>\n",
       "    </tr>\n",
       "    <tr>\n",
       "      <th>4</th>\n",
       "      <td>2019-11-29T13:00:06.000Z</td>\n",
       "      <td>$OPRA News Article - Opera Limited to particip...</td>\n",
       "    </tr>\n",
       "    <tr>\n",
       "      <th>...</th>\n",
       "      <td>...</td>\n",
       "      <td>...</td>\n",
       "    </tr>\n",
       "    <tr>\n",
       "      <th>9731</th>\n",
       "      <td>2013-01-02T11:25:37.000Z</td>\n",
       "      <td>China's November Solar Shipments Add Concerns ...</td>\n",
       "    </tr>\n",
       "    <tr>\n",
       "      <th>9732</th>\n",
       "      <td>2013-01-01T12:30:43.000Z</td>\n",
       "      <td>$JKS Stock under $10 - Stock Analysis emini tr...</td>\n",
       "    </tr>\n",
       "    <tr>\n",
       "      <th>9733</th>\n",
       "      <td>2012-12-31T16:30:40.000Z</td>\n",
       "      <td>$JKS Stock under $10 - Stock Analysis swing tr...</td>\n",
       "    </tr>\n",
       "    <tr>\n",
       "      <th>9734</th>\n",
       "      <td>2012-12-31T12:46:06.000Z</td>\n",
       "      <td>$JKS - JinkoSolar Holding Stock Analysis - bes...</td>\n",
       "    </tr>\n",
       "    <tr>\n",
       "      <th>9735</th>\n",
       "      <td>2012-12-31T11:55:07.000Z</td>\n",
       "      <td>$JKS - JinkoSolar Holding Stock Analysis -  - ...</td>\n",
       "    </tr>\n",
       "  </tbody>\n",
       "</table>\n",
       "<p>9731 rows × 2 columns</p>\n",
       "</div>"
      ],
      "text/plain": [
       "                      postDate  \\\n",
       "0     2019-12-31T16:18:19.000Z   \n",
       "1     2019-11-29T14:30:03.000Z   \n",
       "2     2019-11-29T14:09:18.000Z   \n",
       "3     2019-11-29T13:05:23.000Z   \n",
       "4     2019-11-29T13:00:06.000Z   \n",
       "...                        ...   \n",
       "9731  2013-01-02T11:25:37.000Z   \n",
       "9732  2013-01-01T12:30:43.000Z   \n",
       "9733  2012-12-31T16:30:40.000Z   \n",
       "9734  2012-12-31T12:46:06.000Z   \n",
       "9735  2012-12-31T11:55:07.000Z   \n",
       "\n",
       "                                              tweetText  \n",
       "0                     PM's getting back to \"even weight  \n",
       "1     Fly Intel: Pre-market Movers $TECD $APO $BRK.A...  \n",
       "2     Watchlist 11-29-19: pathetic list to say the l...  \n",
       "3     $JKS JinkoSolar Supplies 300MW of High-Efficie...  \n",
       "4     $OPRA News Article - Opera Limited to particip...  \n",
       "...                                                 ...  \n",
       "9731  China's November Solar Shipments Add Concerns ...  \n",
       "9732  $JKS Stock under $10 - Stock Analysis emini tr...  \n",
       "9733  $JKS Stock under $10 - Stock Analysis swing tr...  \n",
       "9734  $JKS - JinkoSolar Holding Stock Analysis - bes...  \n",
       "9735  $JKS - JinkoSolar Holding Stock Analysis -  - ...  \n",
       "\n",
       "[9731 rows x 2 columns]"
      ]
     },
     "execution_count": 31,
     "metadata": {},
     "output_type": "execute_result"
    }
   ],
   "source": [
    "df.dropna(subset=['postDate'])"
   ]
  },
  {
   "cell_type": "code",
   "execution_count": 32,
   "id": "d6947a92",
   "metadata": {},
   "outputs": [],
   "source": [
    "df1_sorted = df.sort_values('postDate')\n",
    "df2_sorted = df1.sort_values('postDate')"
   ]
  },
  {
   "cell_type": "code",
   "execution_count": 33,
   "id": "277be4ac",
   "metadata": {},
   "outputs": [
    {
     "data": {
      "text/html": [
       "<div>\n",
       "<style scoped>\n",
       "    .dataframe tbody tr th:only-of-type {\n",
       "        vertical-align: middle;\n",
       "    }\n",
       "\n",
       "    .dataframe tbody tr th {\n",
       "        vertical-align: top;\n",
       "    }\n",
       "\n",
       "    .dataframe thead th {\n",
       "        text-align: right;\n",
       "    }\n",
       "</style>\n",
       "<table border=\"1\" class=\"dataframe\">\n",
       "  <thead>\n",
       "    <tr style=\"text-align: right;\">\n",
       "      <th></th>\n",
       "      <th>postDate</th>\n",
       "      <th>tweetText</th>\n",
       "    </tr>\n",
       "  </thead>\n",
       "  <tbody>\n",
       "    <tr>\n",
       "      <th>9735</th>\n",
       "      <td>2012-12-31T11:55:07.000Z</td>\n",
       "      <td>$JKS - JinkoSolar Holding Stock Analysis -  - ...</td>\n",
       "    </tr>\n",
       "    <tr>\n",
       "      <th>9734</th>\n",
       "      <td>2012-12-31T12:46:06.000Z</td>\n",
       "      <td>$JKS - JinkoSolar Holding Stock Analysis - bes...</td>\n",
       "    </tr>\n",
       "    <tr>\n",
       "      <th>9733</th>\n",
       "      <td>2012-12-31T16:30:40.000Z</td>\n",
       "      <td>$JKS Stock under $10 - Stock Analysis swing tr...</td>\n",
       "    </tr>\n",
       "    <tr>\n",
       "      <th>9732</th>\n",
       "      <td>2013-01-01T12:30:43.000Z</td>\n",
       "      <td>$JKS Stock under $10 - Stock Analysis emini tr...</td>\n",
       "    </tr>\n",
       "    <tr>\n",
       "      <th>9731</th>\n",
       "      <td>2013-01-02T11:25:37.000Z</td>\n",
       "      <td>China's November Solar Shipments Add Concerns ...</td>\n",
       "    </tr>\n",
       "    <tr>\n",
       "      <th>...</th>\n",
       "      <td>...</td>\n",
       "      <td>...</td>\n",
       "    </tr>\n",
       "    <tr>\n",
       "      <th>4</th>\n",
       "      <td>2019-11-29T13:00:06.000Z</td>\n",
       "      <td>$OPRA News Article - Opera Limited to particip...</td>\n",
       "    </tr>\n",
       "    <tr>\n",
       "      <th>3</th>\n",
       "      <td>2019-11-29T13:05:23.000Z</td>\n",
       "      <td>$JKS JinkoSolar Supplies 300MW of High-Efficie...</td>\n",
       "    </tr>\n",
       "    <tr>\n",
       "      <th>2</th>\n",
       "      <td>2019-11-29T14:09:18.000Z</td>\n",
       "      <td>Watchlist 11-29-19: pathetic list to say the l...</td>\n",
       "    </tr>\n",
       "    <tr>\n",
       "      <th>1</th>\n",
       "      <td>2019-11-29T14:30:03.000Z</td>\n",
       "      <td>Fly Intel: Pre-market Movers $TECD $APO $BRK.A...</td>\n",
       "    </tr>\n",
       "    <tr>\n",
       "      <th>0</th>\n",
       "      <td>2019-12-31T16:18:19.000Z</td>\n",
       "      <td>PM's getting back to \"even weight</td>\n",
       "    </tr>\n",
       "  </tbody>\n",
       "</table>\n",
       "<p>9731 rows × 2 columns</p>\n",
       "</div>"
      ],
      "text/plain": [
       "                      postDate  \\\n",
       "9735  2012-12-31T11:55:07.000Z   \n",
       "9734  2012-12-31T12:46:06.000Z   \n",
       "9733  2012-12-31T16:30:40.000Z   \n",
       "9732  2013-01-01T12:30:43.000Z   \n",
       "9731  2013-01-02T11:25:37.000Z   \n",
       "...                        ...   \n",
       "4     2019-11-29T13:00:06.000Z   \n",
       "3     2019-11-29T13:05:23.000Z   \n",
       "2     2019-11-29T14:09:18.000Z   \n",
       "1     2019-11-29T14:30:03.000Z   \n",
       "0     2019-12-31T16:18:19.000Z   \n",
       "\n",
       "                                              tweetText  \n",
       "9735  $JKS - JinkoSolar Holding Stock Analysis -  - ...  \n",
       "9734  $JKS - JinkoSolar Holding Stock Analysis - bes...  \n",
       "9733  $JKS Stock under $10 - Stock Analysis swing tr...  \n",
       "9732  $JKS Stock under $10 - Stock Analysis emini tr...  \n",
       "9731  China's November Solar Shipments Add Concerns ...  \n",
       "...                                                 ...  \n",
       "4     $OPRA News Article - Opera Limited to particip...  \n",
       "3     $JKS JinkoSolar Supplies 300MW of High-Efficie...  \n",
       "2     Watchlist 11-29-19: pathetic list to say the l...  \n",
       "1     Fly Intel: Pre-market Movers $TECD $APO $BRK.A...  \n",
       "0                     PM's getting back to \"even weight  \n",
       "\n",
       "[9731 rows x 2 columns]"
      ]
     },
     "execution_count": 33,
     "metadata": {},
     "output_type": "execute_result"
    }
   ],
   "source": [
    "df1_sorted"
   ]
  },
  {
   "cell_type": "code",
   "execution_count": 34,
   "id": "38e166d3",
   "metadata": {},
   "outputs": [
    {
     "data": {
      "text/html": [
       "<div>\n",
       "<style scoped>\n",
       "    .dataframe tbody tr th:only-of-type {\n",
       "        vertical-align: middle;\n",
       "    }\n",
       "\n",
       "    .dataframe tbody tr th {\n",
       "        vertical-align: top;\n",
       "    }\n",
       "\n",
       "    .dataframe thead th {\n",
       "        text-align: right;\n",
       "    }\n",
       "</style>\n",
       "<table border=\"1\" class=\"dataframe\">\n",
       "  <thead>\n",
       "    <tr style=\"text-align: right;\">\n",
       "      <th></th>\n",
       "      <th>postDate</th>\n",
       "      <th>tweetText</th>\n",
       "    </tr>\n",
       "  </thead>\n",
       "  <tbody>\n",
       "    <tr>\n",
       "      <th>2018-11-27T07:05:03.000Z</th>\n",
       "      <td>#BalanceofSystems #Installations Bifacial boos...</td>\n",
       "      <td>NaN</td>\n",
       "    </tr>\n",
       "    <tr>\n",
       "      <th>2019-12-11T10:39:24.000Z</th>\n",
       "      <td>#Chinese module manufacturer JinkoSolar to est...</td>\n",
       "      <td>NaN</td>\n",
       "    </tr>\n",
       "    <tr>\n",
       "      <th>2019-02-27T08:52:03.000Z</th>\n",
       "      <td>#Employment #Markets Inside JinkoSolar’s US fa...</td>\n",
       "      <td>NaN</td>\n",
       "    </tr>\n",
       "    <tr>\n",
       "      <th>2019-07-20T12:22:12.000Z</th>\n",
       "      <td>#EquityResearch firms playing us? July 18: “Ji...</td>\n",
       "      <td>NaN</td>\n",
       "    </tr>\n",
       "    <tr>\n",
       "      <th>2018-11-26T12:31:04.000Z</th>\n",
       "      <td>#Finance #financialresults JinkoSolar posts si...</td>\n",
       "      <td>NaN</td>\n",
       "    </tr>\n",
       "    <tr>\n",
       "      <th>...</th>\n",
       "      <td>...</td>\n",
       "      <td>...</td>\n",
       "    </tr>\n",
       "    <tr>\n",
       "      <th>2019-03-06T11:58:08.000Z</th>\n",
       "      <td>via @SolarIndustry: Hanwha Q CELLS Files Paten...</td>\n",
       "      <td>LONGi Solar And REC Group ☼ #buildingabrillia...</td>\n",
       "    </tr>\n",
       "    <tr>\n",
       "      <th>2019-11-21T13:04:04.000Z</th>\n",
       "      <td>wikifolio whispers p.m. zu Uniper; Rheinmetall...</td>\n",
       "      <td>Inc.; Biofrontera; Celgene; Wirecard; JinkoSo...</td>\n",
       "    </tr>\n",
       "    <tr>\n",
       "      <th>2018-10-20T07:15:55.000Z</th>\n",
       "      <td>‘Silicon Module Super League’ (SMSL) leader #J...</td>\n",
       "      <td>#China.  Huaneng Renewables had no… https://...</td>\n",
       "    </tr>\n",
       "    <tr>\n",
       "      <th>2019-01-17T16:00:38.000Z</th>\n",
       "      <td>“An Asian consortium consisting of #JinkoSolar...</td>\n",
       "      <td>making it the lowest ever levelised cost of e...</td>\n",
       "    </tr>\n",
       "    <tr>\n",
       "      <th>2019-05-01T17:13:12.000Z</th>\n",
       "      <td>▶︎ JinkoSolar sets solar panel order intake re...</td>\n",
       "      <td>NaN</td>\n",
       "    </tr>\n",
       "  </tbody>\n",
       "</table>\n",
       "<p>2542 rows × 2 columns</p>\n",
       "</div>"
      ],
      "text/plain": [
       "                                                                   postDate  \\\n",
       "2018-11-27T07:05:03.000Z  #BalanceofSystems #Installations Bifacial boos...   \n",
       "2019-12-11T10:39:24.000Z  #Chinese module manufacturer JinkoSolar to est...   \n",
       "2019-02-27T08:52:03.000Z  #Employment #Markets Inside JinkoSolar’s US fa...   \n",
       "2019-07-20T12:22:12.000Z  #EquityResearch firms playing us? July 18: “Ji...   \n",
       "2018-11-26T12:31:04.000Z  #Finance #financialresults JinkoSolar posts si...   \n",
       "...                                                                     ...   \n",
       "2019-03-06T11:58:08.000Z  via @SolarIndustry: Hanwha Q CELLS Files Paten...   \n",
       "2019-11-21T13:04:04.000Z  wikifolio whispers p.m. zu Uniper; Rheinmetall...   \n",
       "2018-10-20T07:15:55.000Z  ‘Silicon Module Super League’ (SMSL) leader #J...   \n",
       "2019-01-17T16:00:38.000Z  “An Asian consortium consisting of #JinkoSolar...   \n",
       "2019-05-01T17:13:12.000Z  ▶︎ JinkoSolar sets solar panel order intake re...   \n",
       "\n",
       "                                                                  tweetText  \n",
       "2018-11-27T07:05:03.000Z                                                NaN  \n",
       "2019-12-11T10:39:24.000Z                                                NaN  \n",
       "2019-02-27T08:52:03.000Z                                                NaN  \n",
       "2019-07-20T12:22:12.000Z                                                NaN  \n",
       "2018-11-26T12:31:04.000Z                                                NaN  \n",
       "...                                                                     ...  \n",
       "2019-03-06T11:58:08.000Z   LONGi Solar And REC Group ☼ #buildingabrillia...  \n",
       "2019-11-21T13:04:04.000Z   Inc.; Biofrontera; Celgene; Wirecard; JinkoSo...  \n",
       "2018-10-20T07:15:55.000Z    #China.  Huaneng Renewables had no… https://...  \n",
       "2019-01-17T16:00:38.000Z   making it the lowest ever levelised cost of e...  \n",
       "2019-05-01T17:13:12.000Z                                                NaN  \n",
       "\n",
       "[2542 rows x 2 columns]"
      ]
     },
     "execution_count": 34,
     "metadata": {},
     "output_type": "execute_result"
    }
   ],
   "source": [
    "df2_sorted"
   ]
  },
  {
   "cell_type": "code",
   "execution_count": 20,
   "id": "87eb62c0",
   "metadata": {},
   "outputs": [],
   "source": [
    "merged_df = pd.merge_ordered(df1_sorted, df2_sorted, on='postDate')"
   ]
  },
  {
   "cell_type": "code",
   "execution_count": 21,
   "id": "ed812e0d",
   "metadata": {},
   "outputs": [],
   "source": [
    "merged_df['postDate'] = merged_df['postDate'].str.extract(r'(\\d{4}-\\d{2}-\\d{2}T\\d{2}:\\d{2}:\\d{2}\\.\\d{3}Z)')\n"
   ]
  },
  {
   "cell_type": "code",
   "execution_count": 23,
   "id": "313dca6a",
   "metadata": {},
   "outputs": [
    {
     "data": {
      "text/html": [
       "<div>\n",
       "<style scoped>\n",
       "    .dataframe tbody tr th:only-of-type {\n",
       "        vertical-align: middle;\n",
       "    }\n",
       "\n",
       "    .dataframe tbody tr th {\n",
       "        vertical-align: top;\n",
       "    }\n",
       "\n",
       "    .dataframe thead th {\n",
       "        text-align: right;\n",
       "    }\n",
       "</style>\n",
       "<table border=\"1\" class=\"dataframe\">\n",
       "  <thead>\n",
       "    <tr style=\"text-align: right;\">\n",
       "      <th></th>\n",
       "      <th>postDate</th>\n",
       "      <th>tweetText_x</th>\n",
       "      <th>tweetText_y</th>\n",
       "    </tr>\n",
       "  </thead>\n",
       "  <tbody>\n",
       "    <tr>\n",
       "      <th>0</th>\n",
       "      <td>NaN</td>\n",
       "      <td>NaN</td>\n",
       "      <td>NaN</td>\n",
       "    </tr>\n",
       "    <tr>\n",
       "      <th>1</th>\n",
       "      <td>NaN</td>\n",
       "      <td>NaN</td>\n",
       "      <td>NaN</td>\n",
       "    </tr>\n",
       "    <tr>\n",
       "      <th>2</th>\n",
       "      <td>NaN</td>\n",
       "      <td>NaN</td>\n",
       "      <td>NaN</td>\n",
       "    </tr>\n",
       "    <tr>\n",
       "      <th>3</th>\n",
       "      <td>NaN</td>\n",
       "      <td>NaN</td>\n",
       "      <td>NaN</td>\n",
       "    </tr>\n",
       "    <tr>\n",
       "      <th>4</th>\n",
       "      <td>NaN</td>\n",
       "      <td>NaN</td>\n",
       "      <td>NaN</td>\n",
       "    </tr>\n",
       "    <tr>\n",
       "      <th>...</th>\n",
       "      <td>...</td>\n",
       "      <td>...</td>\n",
       "      <td>...</td>\n",
       "    </tr>\n",
       "    <tr>\n",
       "      <th>12268</th>\n",
       "      <td>NaN</td>\n",
       "      <td>NaN</td>\n",
       "      <td>LONGi Solar And REC Group ☼ #buildingabrillia...</td>\n",
       "    </tr>\n",
       "    <tr>\n",
       "      <th>12269</th>\n",
       "      <td>NaN</td>\n",
       "      <td>NaN</td>\n",
       "      <td>Inc.; Biofrontera; Celgene; Wirecard; JinkoSo...</td>\n",
       "    </tr>\n",
       "    <tr>\n",
       "      <th>12270</th>\n",
       "      <td>NaN</td>\n",
       "      <td>NaN</td>\n",
       "      <td>#China.  Huaneng Renewables had no… https://...</td>\n",
       "    </tr>\n",
       "    <tr>\n",
       "      <th>12271</th>\n",
       "      <td>NaN</td>\n",
       "      <td>NaN</td>\n",
       "      <td>making it the lowest ever levelised cost of e...</td>\n",
       "    </tr>\n",
       "    <tr>\n",
       "      <th>12272</th>\n",
       "      <td>NaN</td>\n",
       "      <td>NaN</td>\n",
       "      <td>NaN</td>\n",
       "    </tr>\n",
       "  </tbody>\n",
       "</table>\n",
       "<p>12273 rows × 3 columns</p>\n",
       "</div>"
      ],
      "text/plain": [
       "      postDate tweetText_x                                        tweetText_y\n",
       "0          NaN         NaN                                                NaN\n",
       "1          NaN         NaN                                                NaN\n",
       "2          NaN         NaN                                                NaN\n",
       "3          NaN         NaN                                                NaN\n",
       "4          NaN         NaN                                                NaN\n",
       "...        ...         ...                                                ...\n",
       "12268      NaN         NaN   LONGi Solar And REC Group ☼ #buildingabrillia...\n",
       "12269      NaN         NaN   Inc.; Biofrontera; Celgene; Wirecard; JinkoSo...\n",
       "12270      NaN         NaN    #China.  Huaneng Renewables had no… https://...\n",
       "12271      NaN         NaN   making it the lowest ever levelised cost of e...\n",
       "12272      NaN         NaN                                                NaN\n",
       "\n",
       "[12273 rows x 3 columns]"
      ]
     },
     "execution_count": 23,
     "metadata": {},
     "output_type": "execute_result"
    }
   ],
   "source": [
    "merged_df"
   ]
  },
  {
   "cell_type": "code",
   "execution_count": 22,
   "id": "7fb58b0c",
   "metadata": {},
   "outputs": [
    {
     "ename": "KeyError",
     "evalue": "'tweetText'",
     "output_type": "error",
     "traceback": [
      "\u001b[0;31m---------------------------------------------------------------------------\u001b[0m",
      "\u001b[0;31mKeyError\u001b[0m                                  Traceback (most recent call last)",
      "File \u001b[0;32m/opt/homebrew/Caskroom/miniforge/base/envs/tensorflow-metal/lib/python3.10/site-packages/pandas/core/indexes/base.py:3803\u001b[0m, in \u001b[0;36mIndex.get_loc\u001b[0;34m(self, key, method, tolerance)\u001b[0m\n\u001b[1;32m   3802\u001b[0m \u001b[39mtry\u001b[39;00m:\n\u001b[0;32m-> 3803\u001b[0m     \u001b[39mreturn\u001b[39;00m \u001b[39mself\u001b[39;49m\u001b[39m.\u001b[39;49m_engine\u001b[39m.\u001b[39;49mget_loc(casted_key)\n\u001b[1;32m   3804\u001b[0m \u001b[39mexcept\u001b[39;00m \u001b[39mKeyError\u001b[39;00m \u001b[39mas\u001b[39;00m err:\n",
      "File \u001b[0;32m/opt/homebrew/Caskroom/miniforge/base/envs/tensorflow-metal/lib/python3.10/site-packages/pandas/_libs/index.pyx:138\u001b[0m, in \u001b[0;36mpandas._libs.index.IndexEngine.get_loc\u001b[0;34m()\u001b[0m\n",
      "File \u001b[0;32m/opt/homebrew/Caskroom/miniforge/base/envs/tensorflow-metal/lib/python3.10/site-packages/pandas/_libs/index.pyx:165\u001b[0m, in \u001b[0;36mpandas._libs.index.IndexEngine.get_loc\u001b[0;34m()\u001b[0m\n",
      "File \u001b[0;32mpandas/_libs/hashtable_class_helper.pxi:5745\u001b[0m, in \u001b[0;36mpandas._libs.hashtable.PyObjectHashTable.get_item\u001b[0;34m()\u001b[0m\n",
      "File \u001b[0;32mpandas/_libs/hashtable_class_helper.pxi:5753\u001b[0m, in \u001b[0;36mpandas._libs.hashtable.PyObjectHashTable.get_item\u001b[0;34m()\u001b[0m\n",
      "\u001b[0;31mKeyError\u001b[0m: 'tweetText'",
      "\nThe above exception was the direct cause of the following exception:\n",
      "\u001b[0;31mKeyError\u001b[0m                                  Traceback (most recent call last)",
      "Cell \u001b[0;32mIn[22], line 2\u001b[0m\n\u001b[1;32m      1\u001b[0m undesired_expr \u001b[39m=\u001b[39m \u001b[39mr\u001b[39m\u001b[39m'\u001b[39m\u001b[39m(\u001b[39m\u001b[39m\\\u001b[39m\u001b[39md\u001b[39m\u001b[39m{4}\u001b[39;00m\u001b[39m-\u001b[39m\u001b[39m\\\u001b[39m\u001b[39md\u001b[39m\u001b[39m{2}\u001b[39;00m\u001b[39m-\u001b[39m\u001b[39m\\\u001b[39m\u001b[39md\u001b[39m\u001b[39m{2}\u001b[39;00m\u001b[39mT\u001b[39m\u001b[39m\\\u001b[39m\u001b[39md\u001b[39m\u001b[39m{2}\u001b[39;00m\u001b[39m:\u001b[39m\u001b[39m\\\u001b[39m\u001b[39md\u001b[39m\u001b[39m{2}\u001b[39;00m\u001b[39m:\u001b[39m\u001b[39m\\\u001b[39m\u001b[39md\u001b[39m\u001b[39m{2}\u001b[39;00m\u001b[39m\\\u001b[39m\u001b[39m.\u001b[39m\u001b[39m\\\u001b[39m\u001b[39md\u001b[39m\u001b[39m{3}\u001b[39;00m\u001b[39mZ)\u001b[39m\u001b[39m'\u001b[39m\n\u001b[0;32m----> 2\u001b[0m undesired_rows \u001b[39m=\u001b[39m merged_df[\u001b[39m'\u001b[39;49m\u001b[39mtweetText\u001b[39;49m\u001b[39m'\u001b[39;49m]\u001b[39m.\u001b[39mstr\u001b[39m.\u001b[39mcontains(undesired_expr, na\u001b[39m=\u001b[39m\u001b[39mFalse\u001b[39;00m)\n",
      "File \u001b[0;32m/opt/homebrew/Caskroom/miniforge/base/envs/tensorflow-metal/lib/python3.10/site-packages/pandas/core/frame.py:3805\u001b[0m, in \u001b[0;36mDataFrame.__getitem__\u001b[0;34m(self, key)\u001b[0m\n\u001b[1;32m   3803\u001b[0m \u001b[39mif\u001b[39;00m \u001b[39mself\u001b[39m\u001b[39m.\u001b[39mcolumns\u001b[39m.\u001b[39mnlevels \u001b[39m>\u001b[39m \u001b[39m1\u001b[39m:\n\u001b[1;32m   3804\u001b[0m     \u001b[39mreturn\u001b[39;00m \u001b[39mself\u001b[39m\u001b[39m.\u001b[39m_getitem_multilevel(key)\n\u001b[0;32m-> 3805\u001b[0m indexer \u001b[39m=\u001b[39m \u001b[39mself\u001b[39;49m\u001b[39m.\u001b[39;49mcolumns\u001b[39m.\u001b[39;49mget_loc(key)\n\u001b[1;32m   3806\u001b[0m \u001b[39mif\u001b[39;00m is_integer(indexer):\n\u001b[1;32m   3807\u001b[0m     indexer \u001b[39m=\u001b[39m [indexer]\n",
      "File \u001b[0;32m/opt/homebrew/Caskroom/miniforge/base/envs/tensorflow-metal/lib/python3.10/site-packages/pandas/core/indexes/base.py:3805\u001b[0m, in \u001b[0;36mIndex.get_loc\u001b[0;34m(self, key, method, tolerance)\u001b[0m\n\u001b[1;32m   3803\u001b[0m     \u001b[39mreturn\u001b[39;00m \u001b[39mself\u001b[39m\u001b[39m.\u001b[39m_engine\u001b[39m.\u001b[39mget_loc(casted_key)\n\u001b[1;32m   3804\u001b[0m \u001b[39mexcept\u001b[39;00m \u001b[39mKeyError\u001b[39;00m \u001b[39mas\u001b[39;00m err:\n\u001b[0;32m-> 3805\u001b[0m     \u001b[39mraise\u001b[39;00m \u001b[39mKeyError\u001b[39;00m(key) \u001b[39mfrom\u001b[39;00m \u001b[39merr\u001b[39;00m\n\u001b[1;32m   3806\u001b[0m \u001b[39mexcept\u001b[39;00m \u001b[39mTypeError\u001b[39;00m:\n\u001b[1;32m   3807\u001b[0m     \u001b[39m# If we have a listlike key, _check_indexing_error will raise\u001b[39;00m\n\u001b[1;32m   3808\u001b[0m     \u001b[39m#  InvalidIndexError. Otherwise we fall through and re-raise\u001b[39;00m\n\u001b[1;32m   3809\u001b[0m     \u001b[39m#  the TypeError.\u001b[39;00m\n\u001b[1;32m   3810\u001b[0m     \u001b[39mself\u001b[39m\u001b[39m.\u001b[39m_check_indexing_error(key)\n",
      "\u001b[0;31mKeyError\u001b[0m: 'tweetText'"
     ]
    }
   ],
   "source": [
    "undesired_expr = r'(\\d{4}-\\d{2}-\\d{2}T\\d{2}:\\d{2}:\\d{2}\\.\\d{3}Z)'\n",
    "undesired_rows = merged_df['tweetText'].str.contains(undesired_expr, na=False)\n"
   ]
  },
  {
   "cell_type": "code",
   "execution_count": 15,
   "id": "a246f1c6",
   "metadata": {},
   "outputs": [],
   "source": [
    "df = df[~undesired_rows]\n"
   ]
  },
  {
   "cell_type": "code",
   "execution_count": 19,
   "id": "fedf07de",
   "metadata": {},
   "outputs": [
    {
     "data": {
      "text/plain": [
       "(378636, 4)"
      ]
     },
     "execution_count": 19,
     "metadata": {},
     "output_type": "execute_result"
    }
   ],
   "source": [
    "df.shape"
   ]
  },
  {
   "cell_type": "code",
   "execution_count": 20,
   "id": "1e95d1a8",
   "metadata": {},
   "outputs": [],
   "source": [
    "df.to_parquet('morgan_stanley_tweets')"
   ]
  },
  {
   "attachments": {},
   "cell_type": "markdown",
   "id": "8558481c",
   "metadata": {},
   "source": []
  }
 ],
 "metadata": {
  "kernelspec": {
   "display_name": "Python 3 (ipykernel)",
   "language": "python",
   "name": "python3"
  },
  "language_info": {
   "codemirror_mode": {
    "name": "ipython",
    "version": 3
   },
   "file_extension": ".py",
   "mimetype": "text/x-python",
   "name": "python",
   "nbconvert_exporter": "python",
   "pygments_lexer": "ipython3",
   "version": "3.10.9"
  }
 },
 "nbformat": 4,
 "nbformat_minor": 5
}
